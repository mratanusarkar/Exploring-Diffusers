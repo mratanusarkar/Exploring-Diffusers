{
 "cells": [
  {
   "cell_type": "code",
   "execution_count": 1,
   "id": "2657e18c",
   "metadata": {},
   "outputs": [],
   "source": [
    "# !pip install -qq diffusers[\"torch\"] transformers compel wandb"
   ]
  },
  {
   "cell_type": "code",
   "execution_count": 2,
   "id": "b51b85cc",
   "metadata": {},
   "outputs": [],
   "source": [
    "import torch\n",
    "import wandb\n",
    "from diffusers import DiffusionPipeline, EulerDiscreteScheduler\n",
    "from compel import Compel, ReturnedEmbeddingsType"
   ]
  },
  {
   "cell_type": "code",
   "execution_count": 3,
   "id": "6db392c6",
   "metadata": {},
   "outputs": [
    {
     "data": {
      "text/html": [
       "Tracking run with wandb version 0.15.8"
      ],
      "text/plain": [
       "<IPython.core.display.HTML object>"
      ]
     },
     "metadata": {},
     "output_type": "display_data"
    },
    {
     "data": {
      "text/html": [
       "Run data is saved locally in <code>/home/tsa2cob/Workspace/project-diffusers/diffusers-ipynbs/wandb/run-20230810_102938-0nk0pggh</code>"
      ],
      "text/plain": [
       "<IPython.core.display.HTML object>"
      ]
     },
     "metadata": {},
     "output_type": "display_data"
    },
    {
     "data": {
      "text/html": [
       "Syncing run <strong><a href='https://wandb.ai/mratanusarkar/stable-diffusion-xl/runs/0nk0pggh' target=\"_blank\">zesty-silence-19</a></strong> to <a href='https://wandb.ai/mratanusarkar/stable-diffusion-xl' target=\"_blank\">Weights & Biases</a> (<a href='https://wandb.me/run' target=\"_blank\">docs</a>)<br/>"
      ],
      "text/plain": [
       "<IPython.core.display.HTML object>"
      ]
     },
     "metadata": {},
     "output_type": "display_data"
    },
    {
     "data": {
      "text/html": [
       " View project at <a href='https://wandb.ai/mratanusarkar/stable-diffusion-xl' target=\"_blank\">https://wandb.ai/mratanusarkar/stable-diffusion-xl</a>"
      ],
      "text/plain": [
       "<IPython.core.display.HTML object>"
      ]
     },
     "metadata": {},
     "output_type": "display_data"
    },
    {
     "data": {
      "text/html": [
       " View run at <a href='https://wandb.ai/mratanusarkar/stable-diffusion-xl/runs/0nk0pggh' target=\"_blank\">https://wandb.ai/mratanusarkar/stable-diffusion-xl/runs/0nk0pggh</a>"
      ],
      "text/plain": [
       "<IPython.core.display.HTML object>"
      ]
     },
     "metadata": {},
     "output_type": "display_data"
    }
   ],
   "source": [
    "wandb.init(project=\"stable-diffusion-xl\", entity=\"mratanusarkar\", job_type=\"text-to-image-compel\", save_code=True)\n",
    "\n",
    "config = wandb.config\n",
    "config.stable_diffusion_checkpoint = \"stabilityai/stable-diffusion-xl-base-1.0\"\n",
    "config.refiner_checkpoint = \"stabilityai/stable-diffusion-xl-refiner-1.0\"\n",
    "config.offload_to_cpu = False\n",
    "config.compile_model = False\n",
    "config.prompt_1 = \"A phtoto of a muscular lady, wearing a helmet and a latex suit. She is riding a futuristic bike with bright headlights. The background is of a brightly lit city with neon lights and traffic headlights causing motion blur, cyberpunk aesthetic, realistic, 8k\"\n",
    "config.prompt_2 = \"\"\n",
    "config.negative_prompt_1 = \"paiting, nature, static, sd character, low quality, low resolution, greyscale, monochrome, nose, cropped, lowres, jpeg artifacts, deformed iris, deformed pupils, bad eyes, semi-realistic worst quality, bad lips, deformed mouth, deformed face, deformed fingers, standing still, posing\"\n",
    "config.negative_prompt_2 = \"\"\n",
    "config.seed = 42\n",
    "config.use_ensemble_of_experts = False\n",
    "config.num_inference_steps = 100\n",
    "config.num_refinement_steps = 150\n",
    "config.high_noise_fraction = 0.8 # Set explicitly only if config.use_ensemble_of_experts is True\n",
    "config.scheduler_kwargs = {\n",
    "    \"beta_end\": 0.012,\n",
    "    \"beta_schedule\": \"scaled_linear\", # one of [\"linear\", \"scaled_linear\"]\n",
    "    \"beta_start\": 0.00085,\n",
    "    \"interpolation_type\": \"linear\", # one of [\"linear\", \"log_linear\"]\n",
    "    \"num_train_timesteps\": 1000,\n",
    "    \"prediction_type\": \"epsilon\", # one of [\"epsilon\", \"sample\", \"v_prediction\"]\n",
    "    \"steps_offset\": 1,\n",
    "    \"timestep_spacing\": \"leading\", # one of [\"linspace\", \"leading\"]\n",
    "    \"trained_betas\": None,\n",
    "    \"use_karras_sigmas\": False,\n",
    "}\n",
    "config.prompt_credits = \"\""
   ]
  },
  {
   "cell_type": "code",
   "execution_count": 4,
   "id": "988a0786",
   "metadata": {},
   "outputs": [],
   "source": [
    "if config.seed is not None:\n",
    "    generator = [torch.Generator(device=\"cuda\").manual_seed(config.seed)]\n",
    "else:\n",
    "    generator = [torch.Generator(device=\"cuda\")]"
   ]
  },
  {
   "cell_type": "code",
   "execution_count": 5,
   "id": "9526f694",
   "metadata": {},
   "outputs": [
    {
     "data": {
      "application/vnd.jupyter.widget-view+json": {
       "model_id": "215490986f614694bea18def290e40c9",
       "version_major": 2,
       "version_minor": 0
      },
      "text/plain": [
       "Loading pipeline components...:   0%|          | 0/7 [00:00<?, ?it/s]"
      ]
     },
     "metadata": {},
     "output_type": "display_data"
    }
   ],
   "source": [
    "pipe = DiffusionPipeline.from_pretrained(\n",
    "    config.stable_diffusion_checkpoint,\n",
    "    torch_dtype=torch.float16,\n",
    "    variant=\"fp16\",\n",
    "    use_safetensors=True,\n",
    "    scheduler=EulerDiscreteScheduler(**config.scheduler_kwargs),\n",
    ")\n",
    "\n",
    "if config.offload_to_cpu:\n",
    "    pipe.enable_model_cpu_offload()\n",
    "else:\n",
    "    pipe.to(\"cuda\")\n",
    "\n",
    "if config.compile_model:\n",
    "    pipe.unet = torch.compile(pipe.unet, mode=\"reduce-overhead\", fullgraph=True)"
   ]
  },
  {
   "cell_type": "code",
   "execution_count": 6,
   "id": "37f258e3",
   "metadata": {},
   "outputs": [],
   "source": [
    "if config.prompt_2 == \"\" and config.negative_prompt_2 == \"\":\n",
    "    base_compel = Compel(\n",
    "        tokenizer=[pipe.tokenizer, pipe.tokenizer_2],\n",
    "        text_encoder=[pipe.text_encoder, pipe.text_encoder_2],\n",
    "        returned_embeddings_type=ReturnedEmbeddingsType.PENULTIMATE_HIDDEN_STATES_NON_NORMALIZED,\n",
    "        requires_pooled=[False, True]\n",
    "    )\n",
    "\n",
    "    base_positive_prompt_embeds, base_positive_prompt_pooled = base_compel(config.prompt)\n",
    "    base_negative_prompt_embeds, base_negative_prompt_pooled = base_compel(config.negative_prompt)\n",
    "    base_positive_prompt_embeds, base_negative_prompt_embeds = base_compel.pad_conditioning_tensors_to_same_length([\n",
    "        base_positive_prompt_embeds, base_negative_prompt_embeds\n",
    "    ])\n",
    "else:\n",
    "    base_compel_1 = Compel(\n",
    "        tokenizer=pipe.tokenizer,\n",
    "        text_encoder=pipe.text_encoder,\n",
    "        returned_embeddings_type=ReturnedEmbeddingsType.PENULTIMATE_HIDDEN_STATES_NON_NORMALIZED,\n",
    "        requires_pooled=False,\n",
    "    )\n",
    "\n",
    "    base_positive_prompt_embeds_1 = base_compel_1(config.prompt_1)\n",
    "    base_negative_prompt_embeds_1 = base_compel_1(config.negative_prompt_1)\n",
    "\n",
    "    base_compel_2 = Compel(\n",
    "        tokenizer=pipe.tokenizer_2,\n",
    "        text_encoder=pipe.text_encoder_2,\n",
    "        returned_embeddings_type=ReturnedEmbeddingsType.PENULTIMATE_HIDDEN_STATES_NON_NORMALIZED,\n",
    "        requires_pooled=True,\n",
    "    )\n",
    "\n",
    "    base_positive_prompt_embeds_2, base_positive_prompt_pooled = base_compel_2(config.prompt_2)\n",
    "    base_negative_prompt_embeds_2, base_negative_prompt_pooled = base_compel_2(config.negative_prompt_2)\n",
    "\n",
    "    (\n",
    "        base_positive_prompt_embeds_2, base_negative_prompt_embeds_2\n",
    "    ) = base_compel_2.pad_conditioning_tensors_to_same_length([\n",
    "        base_positive_prompt_embeds_2, base_negative_prompt_embeds_2\n",
    "    ])\n",
    "\n",
    "    base_positive_prompt_embeds = torch.cat((base_positive_prompt_embeds_1, base_positive_prompt_embeds_2), dim=-1)\n",
    "    base_negative_prompt_embeds = torch.cat((base_negative_prompt_embeds_1, base_negative_prompt_embeds_2), dim=-1)"
   ]
  },
  {
   "cell_type": "code",
   "execution_count": 7,
   "id": "f6e2f2b4",
   "metadata": {},
   "outputs": [],
   "source": [
    "# !pip install -qq diffusers[\"torch\"] transformers compel wandb"
   ]
  },
  {
   "cell_type": "code",
   "execution_count": 8,
   "id": "91894d15",
   "metadata": {},
   "outputs": [],
   "source": [
    "import torch\n",
    "import wandb\n",
    "from diffusers import DiffusionPipeline, EulerDiscreteScheduler\n",
    "from compel import Compel, ReturnedEmbeddingsType"
   ]
  },
  {
   "cell_type": "code",
   "execution_count": 9,
   "id": "cafe8351",
   "metadata": {},
   "outputs": [],
   "source": [
    "wandb.init(project=\"stable-diffusion-xl\", entity=\"mratanusarkar\", job_type=\"text-to-image-compel\", save_code=True)\n",
    "\n",
    "config = wandb.config\n",
    "config.stable_diffusion_checkpoint = \"stabilityai/stable-diffusion-xl-base-1.0\"\n",
    "config.refiner_checkpoint = \"stabilityai/stable-diffusion-xl-refiner-1.0\"\n",
    "config.offload_to_cpu = False\n",
    "config.compile_model = False\n",
    "config.prompt_1 = \"A phtoto of a muscular lady, wearing a helmet and a latex suit. She is riding a futuristic bike with bright headlights. The background is of a brightly lit city with neon lights and traffic headlights causing motion blur, cyberpunk aesthetic, realistic, 8k\"\n",
    "config.prompt_2 = \"\"\n",
    "config.negative_prompt_1 = \"paiting, nature, static, sd character, low quality, low resolution, greyscale, monochrome, nose, cropped, lowres, jpeg artifacts, deformed iris, deformed pupils, bad eyes, semi-realistic worst quality, bad lips, deformed mouth, deformed face, deformed fingers, standing still, posing\"\n",
    "config.negative_prompt_2 = \"\"\n",
    "config.seed = 42\n",
    "config.use_ensemble_of_experts = False\n",
    "config.num_inference_steps = 100\n",
    "config.num_refinement_steps = 150\n",
    "config.high_noise_fraction = 0.8 # Set explicitly only if config.use_ensemble_of_experts is True\n",
    "config.scheduler_kwargs = {\n",
    "    \"beta_end\": 0.012,\n",
    "    \"beta_schedule\": \"scaled_linear\", # one of [\"linear\", \"scaled_linear\"]\n",
    "    \"beta_start\": 0.00085,\n",
    "    \"interpolation_type\": \"linear\", # one of [\"linear\", \"log_linear\"]\n",
    "    \"num_train_timesteps\": 1000,\n",
    "    \"prediction_type\": \"epsilon\", # one of [\"epsilon\", \"sample\", \"v_prediction\"]\n",
    "    \"steps_offset\": 1,\n",
    "    \"timestep_spacing\": \"leading\", # one of [\"linspace\", \"leading\"]\n",
    "    \"trained_betas\": None,\n",
    "    \"use_karras_sigmas\": False,\n",
    "}\n",
    "config.prompt_credits = \"\""
   ]
  }
 ],
 "metadata": {
  "kernelspec": {
   "display_name": "Python 3",
   "language": "python",
   "name": "python3"
  },
  "language_info": {
   "codemirror_mode": {
    "name": "ipython",
    "version": 3
   },
   "file_extension": ".py",
   "mimetype": "text/x-python",
   "name": "python",
   "nbconvert_exporter": "python",
   "pygments_lexer": "ipython3",
   "version": "3.10.12"
  }
 },
 "nbformat": 4,
 "nbformat_minor": 5
}
